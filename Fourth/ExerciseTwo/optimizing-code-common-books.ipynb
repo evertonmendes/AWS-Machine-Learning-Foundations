{
 "cells": [
  {
   "cell_type": "markdown",
   "source": [
    "# Optimizing Code: Common Books\n",
    "Here's the code your coworker wrote to find the common book ids in `books_published_last_two_years.txt` and `all_coding_books.txt` to obtain a list of recent coding books."
   ],
   "metadata": {}
  },
  {
   "cell_type": "code",
   "execution_count": 1,
   "source": [
    "import time\r\n",
    "import pandas as pd\r\n",
    "import numpy as np"
   ],
   "outputs": [],
   "metadata": {}
  },
  {
   "cell_type": "code",
   "execution_count": 62,
   "source": [
    "with open('books-published-last-two-years.txt') as f:\r\n",
    "    recent_books = f.read().split('\\n')\r\n",
    "    \r\n",
    "with open('all-coding-books.txt') as f:\r\n",
    "    coding_books = f.read().split('\\n')"
   ],
   "outputs": [],
   "metadata": {}
  },
  {
   "cell_type": "code",
   "execution_count": 3,
   "source": [
    "start = time.time()\r\n",
    "recent_coding_books = []\r\n",
    "\r\n",
    "for book in recent_books:\r\n",
    "    if book in coding_books:\r\n",
    "        recent_coding_books.append(book)\r\n",
    "\r\n",
    "print(len(recent_coding_books))\r\n",
    "print('Duration: {} seconds'.format(time.time() - start))"
   ],
   "outputs": [
    {
     "output_type": "stream",
     "name": "stdout",
     "text": [
      "96\n",
      "Duration: 27.232996225357056 seconds\n"
     ]
    }
   ],
   "metadata": {}
  },
  {
   "cell_type": "markdown",
   "source": [
    "### Tip #1: Use vector operations over loops when possible\n",
    "\n",
    "Use numpy's `intersect1d` method to get the intersection of the `recent_books` and `coding_books` arrays."
   ],
   "metadata": {}
  },
  {
   "cell_type": "code",
   "execution_count": 4,
   "source": [
    "start = time.time()\r\n",
    "recent_coding_books = np.intersect1d(recent_books, coding_books) # TODO: compute intersection of lists\r\n",
    "print(len(recent_coding_books))\r\n",
    "print('Duration: {} seconds'.format(time.time() - start))"
   ],
   "outputs": [
    {
     "output_type": "stream",
     "name": "stdout",
     "text": [
      "96\n",
      "Duration: 0.2849414348602295 seconds\n"
     ]
    }
   ],
   "metadata": {}
  },
  {
   "cell_type": "markdown",
   "source": [
    "### Tip #2: Know your data structures and which methods are faster\r\n",
    "Use the set's `intersection` method to get the common elements in `recent_books` and `coding_books`."
   ],
   "metadata": {}
  },
  {
   "cell_type": "code",
   "execution_count": 63,
   "source": [
    "start = time.time()\r\n",
    "recent_books=set(recent_books)\r\n",
    "coding_books=set(coding_books)\r\n",
    "\r\n",
    "recent_coding_books = recent_books.intersection(coding_books)  #: compute intersection of lists\r\n",
    "\r\n",
    "print(len(recent_coding_books))\r\n",
    "print('Duration: {} seconds'.format(time.time() - start))"
   ],
   "outputs": [
    {
     "output_type": "stream",
     "name": "stdout",
     "text": [
      "96\n",
      "Duration: 0.02200007438659668 seconds\n"
     ]
    }
   ],
   "metadata": {}
  },
  {
   "cell_type": "code",
   "execution_count": 49,
   "source": [
    "def count_intersections(arr1, arr2):\r\n",
    "\r\n",
    "    arr1={book for book in arr1}\r\n",
    "    arr2={book for book in arr2}\r\n",
    "\r\n",
    "    number_intersec=0\r\n",
    "    for code in arr2:\r\n",
    "        if code in arr1:\r\n",
    "            number_intersec+=1\r\n",
    "\r\n",
    "    return number_intersec\r\n"
   ],
   "outputs": [],
   "metadata": {}
  },
  {
   "cell_type": "code",
   "execution_count": 59,
   "source": [
    "start=time.time()\r\n",
    "number_same_elements=count_intersections(recent_books, coding_books)\r\n",
    "print(number_same_elements)\r\n",
    "print('Duration: {} seconds'.format(time.time() - start))\r\n"
   ],
   "outputs": [
    {
     "output_type": "stream",
     "name": "stdout",
     "text": [
      "96\n",
      "Duration: 0.03899955749511719 seconds\n"
     ]
    }
   ],
   "metadata": {}
  },
  {
   "cell_type": "code",
   "execution_count": null,
   "source": [],
   "outputs": [],
   "metadata": {}
  },
  {
   "cell_type": "code",
   "execution_count": null,
   "source": [],
   "outputs": [],
   "metadata": {}
  }
 ],
 "metadata": {
  "kernelspec": {
   "name": "python3",
   "display_name": "Python 3.7.9 64-bit"
  },
  "language_info": {
   "codemirror_mode": {
    "name": "ipython",
    "version": 3
   },
   "file_extension": ".py",
   "mimetype": "text/x-python",
   "name": "python",
   "nbconvert_exporter": "python",
   "pygments_lexer": "ipython3",
   "version": "3.7.9"
  },
  "interpreter": {
   "hash": "cf16bccad1c80041e3bb03c1f2bd15e9ca230e2e95882b7ec66259c791c3c770"
  }
 },
 "nbformat": 4,
 "nbformat_minor": 2
}